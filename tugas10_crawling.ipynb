{
  "nbformat": 4,
  "nbformat_minor": 0,
  "metadata": {
    "colab": {
      "provenance": [],
      "authorship_tag": "ABX9TyMs9gMRZrh92AwniCkIxyTM",
      "include_colab_link": true
    },
    "kernelspec": {
      "name": "python3",
      "display_name": "Python 3"
    },
    "language_info": {
      "name": "python"
    }
  },
  "cells": [
    {
      "cell_type": "markdown",
      "metadata": {
        "id": "view-in-github",
        "colab_type": "text"
      },
      "source": [
        "<a href=\"https://colab.research.google.com/github/Ferdianap/tugas10_crawling/blob/main/tugas10_crawling.ipynb\" target=\"_parent\"><img src=\"https://colab.research.google.com/assets/colab-badge.svg\" alt=\"Open In Colab\"/></a>"
      ]
    },
    {
      "cell_type": "code",
      "execution_count": 1,
      "metadata": {
        "id": "2WNJbsRXDCmg"
      },
      "outputs": [],
      "source": [
        "import requests\n",
        "from bs4 import BeautifulSoup\n",
        "import csv"
      ]
    },
    {
      "cell_type": "code",
      "source": [
        "# Inisialisasi csv writer\n",
        "csvFile = open('quotes_dataset.csv', 'w', newline='', encoding='utf-8')\n",
        "csvWriter = csv.writer(csvFile)\n",
        "csvWriter.writerow(['Quote', 'Author'])  # Menulis header\n",
        "\n",
        "# Input keyword pencarian\n",
        "search_value = input('Mau Cari Apa (masukkan kata kunci): ').lower()\n",
        "\n",
        "found_quotes = []"
      ],
      "metadata": {
        "colab": {
          "base_uri": "https://localhost:8080/"
        },
        "id": "HEgh3cEcDGzo",
        "outputId": "9d2ce65b-6d11-4b02-b6da-79246e8dc797"
      },
      "execution_count": 5,
      "outputs": [
        {
          "name": "stdout",
          "output_type": "stream",
          "text": [
            "Mau Cari Apa (masukkan kata kunci): life\n"
          ]
        }
      ]
    },
    {
      "cell_type": "code",
      "source": [
        "# Melakukan scraping dari beberapa halaman\n",
        "for page in range(1, 6):  # Mengakses halaman 1 sampai 5\n",
        "    url = f'http://quotes.toscrape.com/page/{page}/'\n",
        "    response = requests.get(url)\n",
        "    soup = BeautifulSoup(response.text, 'html.parser')\n",
        "\n",
        "    # Mencari semua kutipan di halaman\n",
        "    quotes = soup.find_all('div', class_='quote')\n",
        "\n",
        "    for quote in quotes:\n",
        "        text = quote.find('span', class_='text').get_text().lower()\n",
        "        author = quote.find('small', class_='author').get_text()\n",
        "\n",
        "        # Cek apakah keyword ada dalam kutipan\n",
        "        if search_value in text:\n",
        "            found_quotes.append((text, author))"
      ],
      "metadata": {
        "id": "hXvWtTdfEfI5"
      },
      "execution_count": 6,
      "outputs": []
    },
    {
      "cell_type": "code",
      "source": [
        "# Proses data hasil pencarian\n",
        "if found_quotes:\n",
        "    print(f'Ditemukan {len(found_quotes)} kutipan.')\n",
        "    print('Proses Crawling Dimulai Mohon Tunggu..')\n",
        "    for quote, author in found_quotes:\n",
        "        csvWriter.writerow([quote, author])\n",
        "    print('Proses Crawling Selesai..')\n",
        "else:\n",
        "    print(f'Tidak ada hasil untuk \"{search_value}\"')\n",
        "\n",
        "# Menutup file CSV\n",
        "csvFile.close()"
      ],
      "metadata": {
        "colab": {
          "base_uri": "https://localhost:8080/"
        },
        "id": "lvZTvPwQEkoC",
        "outputId": "5de68590-4003-4bf0-97eb-cb437604cacb"
      },
      "execution_count": 7,
      "outputs": [
        {
          "output_type": "stream",
          "name": "stdout",
          "text": [
            "Ditemukan 6 kutipan.\n",
            "Proses Crawling Dimulai Mohon Tunggu..\n",
            "Proses Crawling Selesai..\n"
          ]
        }
      ]
    }
  ]
}